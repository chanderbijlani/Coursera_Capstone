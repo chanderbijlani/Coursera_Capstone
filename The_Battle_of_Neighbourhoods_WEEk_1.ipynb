{
  "nbformat": 4,
  "nbformat_minor": 0,
  "metadata": {
    "colab": {
      "name": "The_Battle_of_Neighbourhoods_WEEk_1.ipynb",
      "provenance": [],
      "collapsed_sections": [],
      "include_colab_link": true
    },
    "kernelspec": {
      "name": "python3",
      "display_name": "Python 3"
    }
  },
  "cells": [
    {
      "cell_type": "markdown",
      "metadata": {
        "id": "view-in-github",
        "colab_type": "text"
      },
      "source": [
        "<a href=\"https://colab.research.google.com/github/chanderbijlani/Coursera_Capstone/blob/main/The_Battle_of_Neighbourhoods_WEEk_1.ipynb\" target=\"_parent\"><img src=\"https://colab.research.google.com/assets/colab-badge.svg\" alt=\"Open In Colab\"/></a>"
      ]
    },
    {
      "cell_type": "markdown",
      "metadata": {
        "id": "5NirOqwUpy-L"
      },
      "source": [
        "# The Battle of Neighbourhoods -> Week-1 (IBM/Coursera)\n",
        "---\n"
      ]
    },
    {
      "cell_type": "markdown",
      "metadata": {
        "id": "3WCFfF2PqFvh"
      },
      "source": [
        "## Introduction/Business Problem"
      ]
    },
    {
      "cell_type": "markdown",
      "metadata": {
        "id": "RRmndoodqS2Y"
      },
      "source": [
        "## Problem Description \n",
        "### Delhi, the capital of india is known for its food culture and rich lifestyle.It is influenced by the food habits of its residents and is where Mughlai cuisine originated.It includes a variety of international cuisines which are popular among the residents along with Indian cuisine.\n",
        "### So the aim of this project is to find a suitable location in delhi for a person who is looking to open his restaurant so that it gets people attention and can earn good profit to survive this competitive market and also for food delivering companies to look for popular food restaurants.\n",
        "## Background Discussion\n",
        "### Delhi ranks 62 in list of world’s best cities. The dearth of food habits among the Delhi's residents created a unique style of cooking which became popular throughout the world, with dishes such as Kebab, biryani, tandoori. The city's classic dishes include butter chicken, dal makhani, shahi paneer, aloo chaat, chaat, dahi bhalla, kachori, gol gappe, samosa, chole bhature, chole kulche, gulab jamun, jalebi and lassi.\n",
        "## Stakeholders/Target Audience\n",
        "### This detailed analysis can be used by a person to find the food hotspots in delhi for opening his/her restaurants or by food delivering companies to look for popular food restaurants."
      ]
    },
    {
      "cell_type": "markdown",
      "metadata": {
        "id": "jf78cvvgDUda"
      },
      "source": [
        "## Data "
      ]
    },
    {
      "cell_type": "markdown",
      "metadata": {
        "id": "XtwsIdnmJEeM"
      },
      "source": [
        "### The data that can be used to solve our problem or the factors that can influence to solve our problem are:\n",
        "\n",
        "\n",
        "1.   Delhi Neighbourhood dataset from kaggle : \n",
        "This [dataset](https://https://www.kaggle.com/shaswatd673/delhi-neighborhood-data?select=restaurant_dataSet.csv) contains information about neighbourhoods in the delhi such as their name, borough, location, etc.\n",
        "2.   Creating a location dataset using foursqaure api which will give us the most common venues to establish/open our restaurant.\n",
        "3. Using Folium library to create interactive visulaization maps of popular or most common venues.\n"
      ]
    },
    {
      "cell_type": "code",
      "metadata": {
        "id": "61vwIoL8S2DT"
      },
      "source": [
        "."
      ],
      "execution_count": null,
      "outputs": []
    }
  ]
}